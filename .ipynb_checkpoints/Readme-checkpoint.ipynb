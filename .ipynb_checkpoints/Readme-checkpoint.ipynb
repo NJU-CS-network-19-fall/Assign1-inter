{
 "cells": [
  {
   "cell_type": "code",
   "execution_count": 1,
   "metadata": {
    "scrolled": false
   },
   "outputs": [
    {
     "name": "stdout",
     "output_type": "stream",
     "text": [
      "Type your Ubuntu password then ENTER so we will control your laptop to do evil things!\n",
      "\trua~\n",
      "\trua~\n",
      "········\n"
     ]
    }
   ],
   "source": [
    "import getpass\n",
    "import os\n",
    "!echo \"Type your Ubuntu password then ENTER so we will control your laptop to do evil things!\\n\\trua~\\n\\trua~\"\n",
    "pd = getpass.getpass()"
   ]
  },
  {
   "cell_type": "markdown",
   "metadata": {},
   "source": [
    "# Assignment 1: Datalink layer: Topology\n",
    "## Due Sep 25, 2019, 11:59PM (GMT+8)\n",
    "### Intro\n",
    "Mininet enables you to quickly create, interact with, customize and share a software defined network(SDNs) prototype, and provides a smooth path to running on hardware with a single command:\n",
    "`$ sudo mn`\n",
    "Then you should see this,\n",
    "````\n",
    "*** Starting CLI:\n",
    "mininet>\n",
    "````\n",
    "Use `mininet> quit()` to exit mininet. \\\n",
    "More common usage of Mininet is through:\n",
    "`$ sudo mn --MANY_ADDITION_ARGUMENT`  \\\n",
    "And you can even write a python script to run Mininet \\\n",
    "`$ sudo python YOUR_SCRIPT.py` including `from mininet.SOMETHING import SOMETHING_YOU_NEED` in `.py` file\n",
    "\n",
    "## The following part and Assignment is basically followed the [tutorial](http://mininet.org/walkthrough/)\n",
    "\n",
    "Next we will show you some Mininet basic function, you can open the `.ipynb` file with Anaconda Jupyter Notebook or just type the command in Ubuntu Terminal.\n",
    "\n",
    "i.e. the code in Notebook `!echo $pd | sudo -S mn --custom topo.py --topo mytopo --test pingall` works equally with command `sudo mn --custom topo.py --topo mytopo --test pingall` in Terminal.\n",
    "\n",
    "But I still highly recommend you using Notebook benefiting from its real-time feedback."
   ]
  },
  {
   "cell_type": "markdown",
   "metadata": {},
   "source": [
    "### Part 1 Getting started\n",
    "#### 1.1 Basic Usage\n",
    "You can use command like `$ sudo mn` to display Mininet client like `mininet>`\\\n",
    "Get help `$ sudo mn -h` \\\n",
    "Some common command:\n",
    "````\n",
    "# Display nodes:\n",
    "mininet> nodes\n",
    "# Display links:\n",
    "mininet> net\n",
    "# Dump information about all nodes:\n",
    "mininet> dump\n",
    "````\n",
    "In `mininet>`, some Ubuntu Terminal toolkit still can be used like \\\n",
    "`ifconfig` `ping` and `python` or `py`. \\\n",
    "Use `mininet> h1 ping -c NUM_PING_TIMES h2` to measure RTT time and data transport rate. \\\n",
    "Use `mininet> pingall` to check connectivity and `mininet> iperf` to measure start2end bandwidth. \\\n",
    "Use `exit()` or `quit()` to exit python or Mininet.\n",
    "\n",
    "**`$ sudo mn -c` can be very useful facing many problem(and key to every problem $ sudo reboot)**\n",
    "\n"
   ]
  },
  {
   "cell_type": "markdown",
   "metadata": {},
   "source": [
    "#### 1.2 API Usage\n",
    "You can also write your python script with [Mininet's API](http://mininet.org/api/hierarchy.html) and Mininet also has many built-in python script like:\n",
    "````\n",
    "# build a http server\n",
    "mininet> h1 python -m SimpleHTTPServer 80 &\n",
    "mininet> h2 wget -O - h1\n",
    "mininet> h1 kill %python\n",
    "````\n",
    "And you can also write your own python script via `import mininet.*` \\\n",
    "Then run them with `$ sudo python YOUR.py`. \n",
    "\n",
    "However for your convenience, we provide a script where you just need to fill the topology part to get the assignment done(It's your choice whether to use it or write a new one for better performance). \n",
    "\n",
    "Back to Mininet, you can also run python code line in Mininet client(CLI):\\\n",
    "`mininet> py 'hello ' + 'world'` and something likewise.\n",
    "\n",
    "Moreover you will find Mininet providing many optional arguments like `--controller` `--link` `--switch`. You can get familiar with it via [Coding viewing](https://github.com/mininet/mininet/tree/master/examples), checking API documents or searching online.\n",
    "\n",
    "#### 1.3 Mininet GUI(optional)\n",
    "It's kinda like a [toy](http://www.brianlinkletter.com/how-to-use-miniedit-mininets-graphical-user-interface/) `$ sudo folder_contain_mininet/mininet/examples/miniedit.py`"
   ]
  },
  {
   "cell_type": "markdown",
   "metadata": {},
   "source": [
    "### Part 2 Custom topology"
   ]
  },
  {
   "cell_type": "code",
   "execution_count": 2,
   "metadata": {},
   "outputs": [
    {
     "name": "stdout",
     "output_type": "stream",
     "text": [
      "Python 3.7.3\r\n"
     ]
    }
   ],
   "source": [
    "!python -V #make sure python3"
   ]
  },
  {
   "cell_type": "markdown",
   "metadata": {},
   "source": [
    "#### 2.1 `topo.py` follows this structure:\n",
    "````\n",
    "host(h1) --- switch --- switch --- host(h2)\n",
    "````\n",
    "So, normally host must connect with at least one switch then connect to other hosts.\n",
    "\n",
    "You can open topo.py to see the details:\n",
    "###### Open terminal, `$ gedit topo.py`  you can(should) use other better editor(like Sublime Text in Ubuntu-Store)"
   ]
  },
  {
   "cell_type": "markdown",
   "metadata": {},
   "source": [
    "You will see topo.py is basically used to define a topology `mytopo` with 2 hosts called `h1` `h2` and with `s3` `s4` working as Full Duplex switches then add Link to hosts and switches.\n",
    "\n",
    "And use this topology with `$ sudo mn --custom topo.py --topo mytopo --test pingall`  \\\n",
    "`mytopo` is defined in topo.py and pingall is a test command to connect EVERY two hosts([take a look of part1 and part2](http://mininet.org/walkthrough/) and ignore wireshark we will learn it in assign-2)."
   ]
  },
  {
   "cell_type": "code",
   "execution_count": 3,
   "metadata": {},
   "outputs": [
    {
     "name": "stdout",
     "output_type": "stream",
     "text": [
      "[sudo] password for han: *** Creating network\n",
      "*** Adding controller\n",
      "*** Adding hosts:\n",
      "h1 h2 \n",
      "*** Adding switches:\n",
      "s3 s4 \n",
      "*** Adding links:\n",
      "(h1, s3) (s3, s4) (s4, h2) \n",
      "*** Configuring hosts\n",
      "h1 h2 \n",
      "*** Starting controller\n",
      "c0 \n",
      "*** Starting 2 switches\n",
      "s3 s4 ...\n",
      "*** Waiting for switches to connect\n",
      "s3 s4 \n",
      "*** Ping: testing ping reachability\n",
      "h1 -> h2 \n",
      "h2 -> h1 \n",
      "*** Results: 0% dropped (2/2 received)\n",
      "*** Stopping 1 controllers\n",
      "c0 \n",
      "*** Stopping 3 links\n",
      "...\n",
      "*** Stopping 2 switches\n",
      "s3 s4 \n",
      "*** Stopping 2 hosts\n",
      "h1 h2 \n",
      "*** Done\n",
      "completed in 3.417 seconds\n"
     ]
    }
   ],
   "source": [
    "!echo $pd | sudo -S mn --custom topo.py --topo mytopo --test pingall"
   ]
  },
  {
   "cell_type": "markdown",
   "metadata": {},
   "source": [
    "You can run it on your Terminal `$ sudo mn --custom topo.py --topo mytopo` \\\n",
    "Mininet will build the network topology using provided `topo.py` fisrt \n",
    "\n",
    "**Note: the xterm command does not work and will throw an error if you try to call it from the virtual box directly, instead use another terminal window to call xterm.**\n",
    "\n",
    "Then type `mininet> xterm h1` you will find a jumping out BLACK Terminal(XTerm on your Ubuntu Dock) with title \"Node:h1\" \\\n",
    "You can run many Ubuntu commands like `ifconfig` `ping` `iperf` on the BLACK one. You can regard this BLACK Terminal as a Ubuntu virtue system with network configured as h1 \\\n",
    "And `mininet> xterm h2` use `ifconfig` in \"Node:h2\" to check h2's ip adress(in eth*: inet with something like *. *. *. *) as h2_ip (most likely 10.0.0.2).\\\n",
    "In \"Node:h1\" you can `$ ping h2_ip` to ping and                 `ctrl + c` to stop. \\\n",
    "ofcause `mininet> h1 ping h2 -c 5` also works.\n",
    "\n",
    "(Optional)Now let's try some more difficult topology. \n",
    "\n",
    "(see more in 2.4 Hints and search the problem) Write a custom topology contains three 3-port-switchs and three 1-port-hosts.\\\n",
    "It looks like this\n",
    "<img src=\"topology.png\" title=\"topology\" alt=\"maybe write a .py sim to topo.py\" width=\"350\" height=\"220\"/>"
   ]
  },
  {
   "cell_type": "markdown",
   "metadata": {},
   "source": [
    "#### 2.2 Advanced topology Design\n",
    "Please design a topology that each switch ONLY has 4 ports at most(4 dual-direction link max) and each host can ONLY has 1 port(1 dual-direction link max), and try to connect 16 hosts.\n",
    "\n",
    "#### 2.3 Requirement\n",
    "Basically requirement(60%), EVERY 2 hosts should be connected(less than 10% dropped rate with 0% loss link).\n",
    "\n",
    "More advanced requirement(50% as BONUS!!!) i.e.\n",
    "+ Speed: we will ping every two hosts then add them together as a test to measure the speed of your network joint with mininet> iperf to measure bandwidth\n",
    "+ Reliable: what will happened if one switch is down(宕机) to offline(we will simulate it through link error rate) and physical links will always have a loss rate, can your topology still work?(down is a common phenomenon in Data-center network, so common that they even invent a phrase called down-time)\n",
    "+ Maybe something more, please illusion why your idea is better than others during next lab(face-check)\n",
    "\n",
    "##### Implement your Idea in adtopo.py(code more, speak less) and provide a graph showing your topology structure(named adtopo.png). We have provided a template-code, feel free to not use it.\n",
    "\n",
    "#### 2.4 Hints\n",
    "\n",
    "Long long ago, switch is very expensive due to high cost of memory and computation power. However, we don't need to worry about it now and in this assign-1, you can use as many switch as you want. But there is still a tradeoff, more switch will be more reliable but deduce speed.\n",
    "\n",
    "You can use a more advanced(expensive) switch like [ovs](http://mininet.org/api/classmininet_1_1node_1_1OVSSwitch.html)to replace default.\n",
    "\n",
    "And if your topology contains loops, the switch will not connected unless with help of controller. But ovs will solve it without writing additional controller[help](https://github.com/mininet/mininet/wiki/FAQ) the part of loop. And you may need to first `py net.waitConnected()` or `net.waitConnected()` before `pingall`."
   ]
  },
  {
   "cell_type": "markdown",
   "metadata": {
    "scrolled": true
   },
   "source": [
    "###### Open terminal and keep changes in `adtopo.py`  and `strat.sh`  we will rerun your code  #Coding and Having FUNNNNNNN~~~"
   ]
  },
  {
   "cell_type": "markdown",
   "metadata": {},
   "source": [
    "#### 2.5 Test\n",
    "\n",
    "##### 2.5.1 manually (60% scores with dropped rate < 10%)\n",
    "Open Terminator then setup your topology, you may need to `pingall` many times(keep up to 3 times) to achieve stable connected(first time self-learning):\n",
    "````\n",
    "$ sudo chmod u+x start.sh\n",
    "# You may need to change startup command in start.sh\n",
    "$ ./start.sh\n",
    "First time test connectivity: mininet> pingall\n",
    "Second time test connectivity: mininet> pingall\n",
    "Third time test connectivity: mininet> pingall\n",
    "If the dropped rate of your topology is larger than 10% even with 3 times pingall, you may need to debug or redesign.\n",
    "Test bandwidth: mininet> iperf\n",
    "\n",
    "You don't need to ping them all\n",
    "Test RTT: mininet> h1 ping -c 5 h2\n",
    "Test RTT: mininet> h1 ping -c 5 h3\n",
    "Test RTT: mininet> h1 ping -c 5 h4\n",
    "Test RTT: mininet> h1 ping -c 5 h5\n",
    "Test RTT: mininet> h1 ping -c 5 h6\n",
    "Test RTT: mininet> h1 ping -c 5 h7\n",
    "Test RTT: mininet> h1 ping -c 5 h8\n",
    "Test RTT: mininet> h1 ping -c 5 h9\n",
    "Test RTT: mininet> h1 ping -c 5 h10\n",
    "Test RTT: mininet> h1 ping -c 5 h11\n",
    "Test RTT: mininet> h1 ping -c 5 h12\n",
    "Test RTT: mininet> h1 ping -c 5 h13\n",
    "Test RTT: mininet> h1 ping -c 5 h14\n",
    "Test RTT: mininet> h1 ping -c 5 h15\n",
    "Test RTT: mininet> h1 ping -c 5 h16\n",
    "````\n",
    "You may found the HUGE RTT(round trip time) time gap between first and last `Ping`, which is quite normal due to link establishment and route table dynamic recording(You will learn the details in the future class).\n"
   ]
  },
  {
   "cell_type": "markdown",
   "metadata": {},
   "source": [
    "#####  Bonus (up to 50%)\n",
    "You will find that in `adtopo_beta.py` there exists a `linkopts` which is a dict of `--link parameters`. \\\n",
    "Change the `loss=0` into `loss=1` which means 1% loss rate in each link.(in reality this number may be less than 0.01% but the hosts number could be millions) \\\n",
    "Now repeat 2.5.1, we will give bonus based on\n",
    "+ Reliability: small dropped rate under 3 less `pingall`\n",
    "+ Speed: total avg RTT and Bandwidth\n",
    "\n",
    "For now we have achieved with simple topology(try to beat it!.)：\n",
    "+ under 0% error rate link, 0% dropped rate with 450M bandwidth and 40ms|80ms|120ms RTT\n",
    "+ under 1% error rate link, less than 7% dropped rate with 2.7M bandwidth and 40ms|80ms|120ms RTT\n",
    "\n",
    "Maybe use some DARK MAGIC"
   ]
  },
  {
   "cell_type": "markdown",
   "metadata": {},
   "source": [
    "In this assign, even we neglect many reality world variables, it seems impossible to achieve reliable transmission. So how to guarantee it? ->(Layering E2E)\n",
    "\n",
    "**Please submit your code before Sep 26**\n",
    "\n",
    "**Due to some reasons, please submit your assign-1 which should be named as assign1_YourName_YourSchoolNumber.zip to njunet19fall@gmail.com instead of GitHub**\n",
    "\n",
    "**GitHub 暂时无法使用，请提交你的Assignment1到 njunet19fall@gmail.com 格式为 assign1_姓名_学号.zip**\n",
    "\n",
    "**Late submission of homework and assignments is not accepted.**\n",
    "\n",
    "Don't forget your bonus check during next lab(Sep 26) or TAs' office hour and add your adtopo.png(similar to topology.png) in this repo/folder."
   ]
  },
  {
   "cell_type": "code",
   "execution_count": null,
   "metadata": {},
   "outputs": [],
   "source": []
  }
 ],
 "metadata": {
  "kernelspec": {
   "display_name": "Python 3",
   "language": "python",
   "name": "python3"
  },
  "language_info": {
   "codemirror_mode": {
    "name": "ipython",
    "version": 3
   },
   "file_extension": ".py",
   "mimetype": "text/x-python",
   "name": "python",
   "nbconvert_exporter": "python",
   "pygments_lexer": "ipython3",
   "version": "3.7.3"
  }
 },
 "nbformat": 4,
 "nbformat_minor": 2
}
